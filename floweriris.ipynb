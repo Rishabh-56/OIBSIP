{
  "nbformat": 4,
  "nbformat_minor": 0,
  "metadata": {
    "colab": {
      "provenance": []
    },
    "kernelspec": {
      "name": "python3",
      "display_name": "Python 3"
    },
    "language_info": {
      "name": "python"
    }
  },
  "cells": [
    {
      "cell_type": "code",
      "execution_count": 18,
      "metadata": {
        "id": "sKH_lrUYH3T3"
      },
      "outputs": [],
      "source": [
        "import pandas as pd\n",
        "import numpy as np\n",
        "import seaborn as sns\n",
        "import matplotlib.pyplot as plt\n",
        "%matplotlib inline"
      ]
    },
    {
      "cell_type": "code",
      "source": [
        "columns = ['Sepal length', 'Sepal width', 'Petal length', 'Petal width', 'Class_labels'] \n",
        "df = pd.read_csv('/content/iris.data', names=columns)\n",
        "df.head(150) "
      ],
      "metadata": {
        "id": "XYzRec0XALBM"
      },
      "execution_count": null,
      "outputs": []
    },
    {
      "cell_type": "code",
      "source": [
        "df.describe() "
      ],
      "metadata": {
        "id": "OLXM4NU3AHHl"
      },
      "execution_count": null,
      "outputs": []
    },
    {
      "cell_type": "code",
      "source": [
        "sns.pairplot(df,hue='class_labels')"
      ],
      "metadata": {
        "id": "1nj3Lo5ST8gK"
      },
      "execution_count": null,
      "outputs": []
    },
    {
      "cell_type": "code",
      "source": [
        "data = df.values\n",
        "x=data[:,0:4]\n",
        "y=data[:,4] "
      ],
      "metadata": {
        "id": "pzKB8LKZR7Kj"
      },
      "execution_count": 14,
      "outputs": []
    },
    {
      "cell_type": "code",
      "source": [
        "from sklearn.model_selection import train_test_split\n",
        "x_train , x_test, y_train, y_test= train_test_split(x,y, test_size=0.2) "
      ],
      "metadata": {
        "id": "bSdtlQreSWwS"
      },
      "execution_count": 15,
      "outputs": []
    }
  ]
}